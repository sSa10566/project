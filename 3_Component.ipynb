{
 "cells": [
  {
   "metadata": {},
   "cell_type": "markdown",
   "source": [
    "## 3.1 Load Preprocessing Artifacts & Model / 加载预处理组件与模型\n",
    "\n",
    "- Load the saved imputer, scaler, categorical encoder and XGBoost model from Part 2.\n",
    "- This sets up the pipeline for inference on raw transaction data."
   ],
   "id": "6f55dd40e2f3b896"
  },
  {
   "cell_type": "code",
   "id": "initial_id",
   "metadata": {
    "collapsed": true,
    "ExecuteTime": {
     "end_time": "2025-05-28T06:24:28.567562Z",
     "start_time": "2025-05-28T06:24:28.553219Z"
    }
   },
   "source": [
    "import joblib\n",
    "\n",
    "# Load numeric imputer and scaler\n",
    "num_imp = joblib.load('num_imputer.pkl')\n",
    "scaler  = joblib.load('scaler.pkl')\n",
    "# Load categorical encoder if exists\n",
    "try:\n",
    "    cat_enc = joblib.load('cat_encoder.pkl')\n",
    "except FileNotFoundError:\n",
    "    cat_enc = None\n",
    "\n",
    "# Load trained XGBoost model\n",
    "xgb_model = joblib.load('fraud_xgb_model.pkl')\n",
    "\n",
    "# Extract feature names from the model\n",
    "feature_names = xgb_model.get_booster().feature_names\n",
    "# Derive numeric and categorical features\n",
    "num_cols = [f for f in feature_names if f in scaler.feature_names_in_]\n",
    "cat_cols = [f for f in feature_names if f not in num_cols]\n",
    "\n",
    "print(\"Loaded artifacts. Using features:\")\n",
    "print(feature_names)\n",
    "(\"Loaded num_imp, scaler, cat_enc, and xgb_model.\")"
   ],
   "outputs": [
    {
     "name": "stdout",
     "output_type": "stream",
     "text": [
      "Loaded artifacts. Using features:\n",
      "['TransactionDT', 'TransactionAmt', 'ProductCD', 'card1', 'card2', 'card3', 'card4', 'card5', 'card6', 'addr1', 'addr2', 'dist1', 'dist2', 'P_emaildomain', 'R_emaildomain', 'C1', 'C2', 'C3', 'C4', 'C5', 'C6', 'C7', 'C8', 'C9', 'C10', 'C11', 'C12', 'C13', 'C14', 'D1', 'D2', 'D3', 'D4', 'D5', 'D6', 'D7', 'D8', 'D9', 'D10', 'D11', 'D12', 'D13', 'D14', 'D15', 'M1', 'M2', 'M3', 'M4', 'M5', 'M6', 'M7', 'M8', 'M9', 'V1', 'V2', 'V3', 'V4', 'V5', 'V6', 'V7', 'V8', 'V9', 'V10', 'V11', 'V12', 'V13', 'V14', 'V15', 'V16', 'V17', 'V18', 'V19', 'V20', 'V21', 'V22', 'V23', 'V24', 'V25', 'V26', 'V27', 'V28', 'V29', 'V30', 'V31', 'V32', 'V33', 'V34', 'V35', 'V36', 'V37', 'V38', 'V39', 'V40', 'V41', 'V42', 'V43', 'V44', 'V45', 'V46', 'V47', 'V48', 'V49', 'V50', 'V51', 'V52', 'V53', 'V54', 'V55', 'V56', 'V57', 'V58', 'V59', 'V60', 'V61', 'V62', 'V63', 'V64', 'V65', 'V66', 'V67', 'V68', 'V69', 'V70', 'V71', 'V72', 'V73', 'V74', 'V75', 'V76', 'V77', 'V78', 'V79', 'V80', 'V81', 'V82', 'V83', 'V84', 'V85', 'V86', 'V87', 'V88', 'V89', 'V90', 'V91', 'V92', 'V93', 'V94', 'V95', 'V96', 'V97', 'V98', 'V99', 'V100', 'V101', 'V102', 'V103', 'V104', 'V105', 'V106', 'V107', 'V108', 'V109', 'V110', 'V111', 'V112', 'V113', 'V114', 'V115', 'V116', 'V117', 'V118', 'V119', 'V120', 'V121', 'V122', 'V123', 'V124', 'V125', 'V126', 'V127', 'V128', 'V129', 'V130', 'V131', 'V132', 'V133', 'V134', 'V135', 'V136', 'V137', 'V138', 'V139', 'V140', 'V141', 'V142', 'V143', 'V144', 'V145', 'V146', 'V147', 'V148', 'V149', 'V150', 'V151', 'V152', 'V153', 'V154', 'V155', 'V156', 'V157', 'V158', 'V159', 'V160', 'V161', 'V162', 'V163', 'V164', 'V165', 'V166', 'V167', 'V168', 'V169', 'V170', 'V171', 'V172', 'V173', 'V174', 'V175', 'V176', 'V177', 'V178', 'V179', 'V180', 'V181', 'V182', 'V183', 'V184', 'V185', 'V186', 'V187', 'V188', 'V189', 'V190', 'V191', 'V192', 'V193', 'V194', 'V195', 'V196', 'V197', 'V198', 'V199', 'V200', 'V201', 'V202', 'V203', 'V204', 'V205', 'V206', 'V207', 'V208', 'V209', 'V210', 'V211', 'V212', 'V213', 'V214', 'V215', 'V216', 'V217', 'V218', 'V219', 'V220', 'V221', 'V222', 'V223', 'V224', 'V225', 'V226', 'V227', 'V228', 'V229', 'V230', 'V231', 'V232', 'V233', 'V234', 'V235', 'V236', 'V237', 'V238', 'V239', 'V240', 'V241', 'V242', 'V243', 'V244', 'V245', 'V246', 'V247', 'V248', 'V249', 'V250', 'V251', 'V252', 'V253', 'V254', 'V255', 'V256', 'V257', 'V258', 'V259', 'V260', 'V261', 'V262', 'V263', 'V264', 'V265', 'V266', 'V267', 'V268', 'V269', 'V270', 'V271', 'V272', 'V273', 'V274', 'V275', 'V276', 'V277', 'V278', 'V279', 'V280', 'V281', 'V282', 'V283', 'V284', 'V285', 'V286', 'V287', 'V288', 'V289', 'V290', 'V291', 'V292', 'V293', 'V294', 'V295', 'V296', 'V297', 'V298', 'V299', 'V300', 'V301', 'V302', 'V303', 'V304', 'V305', 'V306', 'V307', 'V308', 'V309', 'V310', 'V311', 'V312', 'V313', 'V314', 'V315', 'V316', 'V317', 'V318', 'V319', 'V320', 'V321', 'V322', 'V323', 'V324', 'V325', 'V326', 'V327', 'V328', 'V329', 'V330', 'V331', 'V332', 'V333', 'V334', 'V335', 'V336', 'V337', 'V338', 'V339', 'id_01', 'id_02', 'id_03', 'id_04', 'id_05', 'id_06', 'id_07', 'id_08', 'id_09', 'id_10', 'id_11', 'id_12', 'id_13', 'id_14', 'id_15', 'id_16', 'id_17', 'id_18', 'id_19', 'id_20', 'id_21', 'id_22', 'id_23', 'id_24', 'id_25', 'id_26', 'id_27', 'id_28', 'id_29', 'id_30', 'id_31', 'id_32', 'id_33', 'id_34', 'id_35', 'id_36', 'id_37', 'id_38', 'DeviceType', 'DeviceInfo']\n"
     ]
    },
    {
     "data": {
      "text/plain": [
       "'Loaded num_imp, scaler, cat_enc, and xgb_model.'"
      ]
     },
     "execution_count": 28,
     "metadata": {},
     "output_type": "execute_result"
    }
   ],
   "execution_count": 28
  },
  {
   "metadata": {},
   "cell_type": "markdown",
   "source": [
    "## 3.2 Define Inference Function / 定义推断函数\n",
    "\n",
    "- Create a function that takes a raw transaction DataFrame, applies preprocessing, and returns fraud probability and label.\n",
    "- Handles numerical imputation, scaling and categorical encoding in correct order."
   ],
   "id": "4251402d8255f156"
  },
  {
   "metadata": {
    "ExecuteTime": {
     "end_time": "2025-05-28T06:24:37.278894Z",
     "start_time": "2025-05-28T06:24:28.577437Z"
    }
   },
   "cell_type": "code",
   "source": [
    "## 3.2 Define Inference Function / 定义推断函数\n",
    "\n",
    "import pandas as pd\n",
    "\n",
    "\n",
    "def predict_fraud(df_raw, threshold=0.5):\n",
    "    \"\"\"\n",
    "    Input:  DataFrame of raw transactions (must include original feature columns)\n",
    "    Output: DataFrame with added 'fraud_proba' and 'fraud_pred'\n",
    "    \"\"\"\n",
    "    # 1. Copy raw data\n",
    "    result = df_raw.copy()\n",
    "    # 2. Select only training features\n",
    "    feat_df = result[feature_names].copy()\n",
    "\n",
    "    # 3. Numeric imputation + scaling\n",
    "    if num_cols:\n",
    "        feat_df[num_cols] = num_imp.transform(feat_df[num_cols])\n",
    "        feat_df[num_cols] = scaler.transform(feat_df[num_cols])\n",
    "\n",
    "    # 4. Categorical encoding (if any)\n",
    "    if cat_enc is not None and cat_cols:\n",
    "        feat_df[cat_cols] = cat_enc.transform(feat_df[cat_cols])\n",
    "\n",
    "    # 5. Predict probabilities and binary label\n",
    "    proba = xgb_model.predict_proba(feat_df)[:, 1]\n",
    "    pred = (proba >= threshold).astype(int)\n",
    "\n",
    "    # 6. Attach predictions back to result\n",
    "    result['fraud_proba'] = proba\n",
    "    result['fraud_pred'] = pred\n",
    "    return result\n",
    "\n",
    "\n",
    "# —— 示例用法 —— #\n",
    "# Load 5 raw transactions + identity\n",
    "df_tr_ex = pd.read_csv('Data/train_transaction.csv').head(5)\n",
    "df_id_ex = pd.read_csv('Data/train_identity.csv').head(5)\n",
    "df_example = pd.merge(df_tr_ex, df_id_ex, on='TransactionID', how='left')\n",
    "df_example.drop(columns=['TransactionID'], inplace=True)\n",
    "\n",
    "# Call the inference function\n",
    "res = predict_fraud(df_example)\n",
    "print(res[['fraud_proba', 'fraud_pred']])"
   ],
   "id": "b5e3eaa42a956ae8",
   "outputs": [
    {
     "name": "stdout",
     "output_type": "stream",
     "text": [
      "   fraud_proba  fraud_pred\n",
      "0     0.152290           0\n",
      "1     0.007969           0\n",
      "2     0.010774           0\n",
      "3     0.001569           0\n",
      "4     0.128091           0\n"
     ]
    }
   ],
   "execution_count": 29
  },
  {
   "metadata": {},
   "cell_type": "markdown",
   "source": [
    "## 3.3 Batch Inference on Test Set / 批量推断示例\n",
    "\n",
    "- Run inference on the entire test set used in Part 2, compute overall metrics."
   ],
   "id": "133b5cca2fbf8a45"
  },
  {
   "metadata": {
    "ExecuteTime": {
     "end_time": "2025-05-28T06:24:52.167392Z",
     "start_time": "2025-05-28T06:24:37.335899Z"
    }
   },
   "cell_type": "code",
   "source": [
    "import pandas as pd\n",
    "from sklearn.model_selection import train_test_split\n",
    "from sklearn.metrics import accuracy_score, roc_auc_score, classification_report, confusion_matrix\n",
    "\n",
    "# 1) 重新加载并合并原始数据\n",
    "df_tr = pd.read_csv('Data/train_transaction.csv')\n",
    "df_id = pd.read_csv('Data/train_identity.csv')\n",
    "df_all = pd.merge(df_tr, df_id, on='TransactionID', how='left').drop(columns=['TransactionID'])\n",
    "\n",
    "# 2) 分层切分：70% 训练 / 30% 测试\n",
    "df_train_raw, df_test_raw = train_test_split(\n",
    "    df_all,\n",
    "    test_size=0.3,\n",
    "    stratify=df_all['isFraud'],\n",
    "    random_state=42\n",
    ")\n",
    "\n",
    "# 3) 对测试集执行推断\n",
    "df_preds = predict_fraud(df_test_raw)\n",
    "\n",
    "# 4) 提取标签和预测\n",
    "y_true = df_test_raw['isFraud'].values\n",
    "y_pred = df_preds['fraud_pred'].values\n",
    "y_proba = df_preds['fraud_proba'].values\n",
    "\n",
    "# 5) 计算并输出各项指标\n",
    "print(\"Test Accuracy :\", accuracy_score(y_true, y_pred))\n",
    "print(\"Test ROC-AUC :\", roc_auc_score(y_true, y_proba))\n",
    "print(\"\\nClassification Report:\\n\",\n",
    "      classification_report(y_true, y_pred, target_names=['Non-Fraud', 'Fraud']))\n",
    "\n",
    "# Confusion Matrix\n",
    "cm = confusion_matrix(y_true, y_pred)\n",
    "print(\"Confusion Matrix:\\n\", cm)"
   ],
   "id": "1418aa4a92a2bd3",
   "outputs": [
    {
     "name": "stdout",
     "output_type": "stream",
     "text": [
      "Test Accuracy : 0.9585520596967747\n",
      "Test ROC-AUC : 0.9080573816992163\n",
      "\n",
      "Classification Report:\n",
      "               precision    recall  f1-score   support\n",
      "\n",
      "   Non-Fraud       0.98      0.97      0.98    170963\n",
      "       Fraud       0.43      0.58      0.50      6199\n",
      "\n",
      "    accuracy                           0.96    177162\n",
      "   macro avg       0.71      0.78      0.74    177162\n",
      "weighted avg       0.97      0.96      0.96    177162\n",
      "\n",
      "Confusion Matrix:\n",
      " [[166220   4743]\n",
      " [  2600   3599]]\n"
     ]
    }
   ],
   "execution_count": 30
  },
  {
   "metadata": {},
   "cell_type": "markdown",
   "source": [
    "## 3.4 Threshold Calibration / 阈值校准\n",
    "\n",
    "- Plot Precision-Recall curve and allow selection of optimal threshold based on business trade-off."
   ],
   "id": "c934a9528ab029b9"
  },
  {
   "metadata": {
    "ExecuteTime": {
     "end_time": "2025-05-28T06:24:52.520749Z",
     "start_time": "2025-05-28T06:24:52.217564Z"
    }
   },
   "cell_type": "code",
   "source": [
    "import matplotlib.pyplot as plt\n",
    "from sklearn.metrics import precision_recall_curve\n",
    "\n",
    "prec, rec, thr = precision_recall_curve(y_true, y_proba)\n",
    "# Plot\n",
    "plt.figure(figsize=(6,4))\n",
    "plt.plot(thr, prec[:-1], label='Precision')\n",
    "plt.plot(thr, rec[:-1], label='Recall')\n",
    "plt.xlabel('Threshold')\n",
    "plt.ylabel('Score')\n",
    "plt.title('Threshold Calibration')\n",
    "plt.legend()\n",
    "plt.grid(True)\n",
    "plt.show()\n",
    "\n",
    "# Display sample thresholds\n",
    "df_thr = pd.DataFrame({'threshold': thr, 'precision': prec[:-1], 'recall': rec[:-1]})\n",
    "print(df_thr.sort_values(by='f1', ascending=False).head(5) if 'f1' in df_thr else df_thr.head(5))"
   ],
   "id": "ec8fbf4947d32e5d",
   "outputs": [
    {
     "data": {
      "text/plain": [
       "<Figure size 600x400 with 1 Axes>"
      ],
      "image/png": "[encoded data removed]"
     },
     "metadata": {},
     "output_type": "display_data"
    },
    {
     "name": "stdout",
     "output_type": "stream",
     "text": [
      "   threshold  precision  recall\n",
      "0   0.000001   0.034991     1.0\n",
      "1   0.000003   0.034991     1.0\n",
      "2   0.000003   0.034991     1.0\n",
      "3   0.000003   0.034991     1.0\n",
      "4   0.000003   0.034991     1.0\n"
     ]
    }
   ],
   "execution_count": 31
  },
  {
   "metadata": {},
   "cell_type": "markdown",
   "source": [
    "## 3.5 Serialize Inference Pipeline / 序列化推断管道\n",
    "\n",
    "- Save the `predict_fraud` function’s dependencies and model so a single pipeline object can be deployed."
   ],
   "id": "b64d3ff0e28c8331"
  },
  {
   "metadata": {
    "ExecuteTime": {
     "end_time": "2025-05-28T06:42:30.185862Z",
     "start_time": "2025-05-28T06:42:09.584307Z"
    }
   },
   "cell_type": "code",
   "source": [
    "# 3.5 Serialize Inference Pipeline / 序列化推断管道\n",
    "import joblib\n",
    "from sklearn.pipeline import Pipeline\n",
    "from sklearn.compose import ColumnTransformer\n",
    "from sklearn.preprocessing import FunctionTransformer\n",
    "from sklearn.model_selection import train_test_split\n",
    "import pandas as pd\n",
    "\n",
    "# -- 1) Reload 原始数据并切分（只为 preprocessor.fit 准备训练集） --\n",
    "df_tr = pd.read_csv('Data/train_transaction.csv')\n",
    "df_id = pd.read_csv('Data/train_identity.csv')\n",
    "df_all = pd.merge(df_tr, df_id, on='TransactionID', how='left').drop(columns=['TransactionID','isFraud'])\n",
    "_, df_train_raw = train_test_split(  # 只取训练集部分\n",
    "    pd.merge(df_tr, df_id, on='TransactionID', how='left').drop(columns=['TransactionID']),\n",
    "    test_size=0.3,\n",
    "    random_state=42,\n",
    "    stratify=pd.merge(df_tr, df_id, on='TransactionID', how='left')['isFraud']\n",
    ")\n",
    "\n",
    "# -- 2) 定义预处理器（与前面一致） --\n",
    "def impute_and_scale(X):\n",
    "    return scaler.transform(num_imp.transform(X[num_cols]))\n",
    "\n",
    "def encode_cat(X):\n",
    "    return cat_enc.transform(X[cat_cols]) if cat_enc else X\n",
    "\n",
    "preprocessor = ColumnTransformer(transformers=[\n",
    "    ('num', FunctionTransformer(impute_and_scale, validate=False), num_cols),\n",
    "    ('cat', FunctionTransformer(encode_cat,      validate=False), cat_cols)\n",
    "], remainder='drop')\n",
    "\n",
    "# -- 3) 用训练集特征 “拟合” preprocessor --\n",
    "preprocessor.fit(df_train_raw[feature_names])\n",
    "\n",
    "\n",
    "# -- 4) 构建完整 Pipeline（此时 preprocessor 已拟合，xgb_model 也已训练） --\n",
    "pipeline = Pipeline([\n",
    "    ('preproc', preprocessor),\n",
    "    ('clf',     xgb_model)\n",
    "])\n",
    "\n",
    "# -- 5) 序列化 --\n",
    "joblib.dump(pipeline, 'fraud_inference_pipeline.pkl')\n",
    "print(\"Saved full inference pipeline as fraud_inference_pipeline.pkl\")"
   ],
   "id": "de35299bcff736fa",
   "outputs": [
    {
     "name": "stderr",
     "output_type": "stream",
     "text": [
      "/Users/ssa10566/PycharmProjects/Datamining1/.venv/lib/python3.13/site-packages/sklearn/utils/validation.py:2739: UserWarning: X does not have valid feature names, but StandardScaler was fitted with feature names\n",
      "  warnings.warn(\n"
     ]
    },
    {
     "name": "stdout",
     "output_type": "stream",
     "text": [
      "Saved full inference pipeline as fraud_inference_pipeline.pkl\n"
     ]
    }
   ],
   "execution_count": 51
  },
  {
   "metadata": {},
   "cell_type": "markdown",
   "source": "## 3.6",
   "id": "25486eadbb37d961"
  },
  {
   "metadata": {
    "ExecuteTime": {
     "end_time": "2025-05-28T06:42:30.246116Z",
     "start_time": "2025-05-28T06:42:30.234716Z"
    }
   },
   "cell_type": "code",
   "source": [
    "pipeline = joblib.load('fraud_inference_pipeline.pkl')\n",
    "proba    = pipeline.predict_proba(df_new)[:,1]\n",
    "pred     = (proba >= 0.5).astype(int)"
   ],
   "id": "ade10dc2d3ecb24a",
   "outputs": [
    {
     "name": "stderr",
     "output_type": "stream",
     "text": [
      "/Users/ssa10566/PycharmProjects/Datamining1/.venv/lib/python3.13/site-packages/sklearn/utils/validation.py:2739: UserWarning: X does not have valid feature names, but StandardScaler was fitted with feature names\n",
      "  warnings.warn(\n"
     ]
    }
   ],
   "execution_count": 52
  }
 ],
 "metadata": {
  "kernelspec": {
   "display_name": "Python 3",
   "language": "python",
   "name": "python3"
  },
  "language_info": {
   "codemirror_mode": {
    "name": "ipython",
    "version": 2
   },
   "file_extension": ".py",
   "mimetype": "text/x-python",
   "name": "python",
   "nbconvert_exporter": "python",
   "pygments_lexer": "ipython2",
   "version": "2.7.6"
  }
 },
 "nbformat": 4,
 "nbformat_minor": 5
}
